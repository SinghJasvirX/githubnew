{
  "nbformat": 4,
  "nbformat_minor": 0,
  "metadata": {
    "colab": {
      "provenance": [],
      "authorship_tag": "ABX9TyPfI/1Spu+SMTEZnyZyHwC9",
      "include_colab_link": true
    },
    "kernelspec": {
      "name": "python3",
      "display_name": "Python 3"
    },
    "language_info": {
      "name": "python"
    }
  },
  "cells": [
    {
      "cell_type": "markdown",
      "metadata": {
        "id": "view-in-github",
        "colab_type": "text"
      },
      "source": [
        "<a href=\"https://colab.research.google.com/github/SinghJasvirX/githubnew/blob/main/DSE_Homework.ipynb\" target=\"_parent\"><img src=\"https://colab.research.google.com/assets/colab-badge.svg\" alt=\"Open In Colab\"/></a>"
      ]
    },
    {
      "cell_type": "code",
      "execution_count": null,
      "metadata": {
        "id": "ZWduFAV5AkYF",
        "colab": {
          "base_uri": "https://localhost:8080/"
        },
        "outputId": "1137351d-2758-4032-db70-1e8577ee192e"
      },
      "outputs": [
        {
          "output_type": "stream",
          "name": "stdout",
          "text": [
            "Given array:\n",
            " [[1 2 3]\n",
            " [4 5 6]]\n",
            "Number of dimensions: 2\n"
          ]
        }
      ],
      "source": [
        "import numpy as np\n",
        "arr = np.array([[1, 2, 3], [4, 5, 6]])\n",
        "print(\"Given array:\\n\", arr)\n",
        "#ndim\n",
        "print(\"Number of dimensions:\", arr.ndim)"
      ]
    },
    {
      "cell_type": "code",
      "source": [
        "import numpy as np\n",
        "arr = np.array([[1, 2, 3], [4, 5, 6]])\n",
        "print(\"Given array:\\n\", arr)\n",
        "#shape\n",
        "print(\"Shape:\", arr.shape)"
      ],
      "metadata": {
        "colab": {
          "base_uri": "https://localhost:8080/"
        },
        "id": "GEt313OeERAK",
        "outputId": "d7ee1b61-99fb-4b72-d2ce-fd904359837e"
      },
      "execution_count": null,
      "outputs": [
        {
          "output_type": "stream",
          "name": "stdout",
          "text": [
            "Given array:\n",
            " [[1 2 3]\n",
            " [4 5 6]]\n",
            "Shape: (2, 3)\n"
          ]
        }
      ]
    },
    {
      "cell_type": "code",
      "source": [
        "import numpy as np\n",
        "arr1 = np.array([[1, 2, 3], [4, 5, 6]])\n",
        "print(\"Given array:\\n\", arr1)\n",
        "#reshape\n",
        "arr2 = arr1.reshape(3, 2)\n",
        "print(\"Reshaped array:\\n\", arr2)"
      ],
      "metadata": {
        "colab": {
          "base_uri": "https://localhost:8080/"
        },
        "id": "kLekD1PqFU2x",
        "outputId": "3d657409-ab5d-45e6-dbbf-b78dbdfe13f1"
      },
      "execution_count": null,
      "outputs": [
        {
          "output_type": "stream",
          "name": "stdout",
          "text": [
            "Given array:\n",
            " [[1 2 3]\n",
            " [4 5 6]]\n",
            "Reshaped array:\n",
            " [[1 2]\n",
            " [3 4]\n",
            " [5 6]]\n"
          ]
        }
      ]
    },
    {
      "cell_type": "code",
      "source": [
        "import numpy as np\n",
        "#empty\n",
        "arr = np.empty(2, dtype = int) #dtype by default is float\n",
        "print(arr)"
      ],
      "metadata": {
        "colab": {
          "base_uri": "https://localhost:8080/"
        },
        "id": "cMX0EsgzGilR",
        "outputId": "99140788-b0e3-41fe-bfa8-9ab18a92b40e"
      },
      "execution_count": null,
      "outputs": [
        {
          "output_type": "stream",
          "name": "stdout",
          "text": [
            "[44090817        0]\n"
          ]
        }
      ]
    },
    {
      "cell_type": "code",
      "source": [
        "import numpy as np\n",
        "#zeros\n",
        "arr = np.zeros((3, 3), dtype = int) #dtype by default is float\n",
        "print(arr)"
      ],
      "metadata": {
        "colab": {
          "base_uri": "https://localhost:8080/"
        },
        "id": "UmQiH9aJIQ0z",
        "outputId": "480dd002-2c51-4bc6-f9be-0b957fc8679d"
      },
      "execution_count": null,
      "outputs": [
        {
          "output_type": "stream",
          "name": "stdout",
          "text": [
            "[[0 0 0]\n",
            " [0 0 0]\n",
            " [0 0 0]]\n"
          ]
        }
      ]
    },
    {
      "cell_type": "code",
      "source": [
        "import numpy as np\n",
        "#ones\n",
        "arr = np.ones((3, 3), dtype = int) #dtype by default is float\n",
        "print(arr)"
      ],
      "metadata": {
        "colab": {
          "base_uri": "https://localhost:8080/"
        },
        "id": "GP8GKdRNJOKR",
        "outputId": "70de655e-6d00-4f0b-cd41-470ff0ebbc24"
      },
      "execution_count": null,
      "outputs": [
        {
          "output_type": "stream",
          "name": "stdout",
          "text": [
            "[[1 1 1]\n",
            " [1 1 1]\n",
            " [1 1 1]]\n"
          ]
        }
      ]
    },
    {
      "cell_type": "code",
      "source": [
        "import numpy as np\n",
        "x = [1, 2, 3, 4, 5, 6]\n",
        "print(\"Python List:\\n\", x)\n",
        "#asarray\n",
        "arr = np.asarray(x, dtype = float)\n",
        "print(\"Numpy array:\\n\", arr)"
      ],
      "metadata": {
        "colab": {
          "base_uri": "https://localhost:8080/"
        },
        "id": "los3N4LEKH9l",
        "outputId": "bfb880e4-c3c3-4725-ca87-45322abfa28c"
      },
      "execution_count": null,
      "outputs": [
        {
          "output_type": "stream",
          "name": "stdout",
          "text": [
            "Python List:\n",
            " [1, 2, 3, 4, 5, 6]\n",
            "Numpy array:\n",
            " [1. 2. 3. 4. 5. 6.]\n"
          ]
        }
      ]
    },
    {
      "cell_type": "code",
      "source": [
        "import numpy as np\n",
        "x = [(1, 2, 3), (4, 5, 6)]\n",
        "print(\"Python List:\\n\", x)\n",
        "arr = np.asarray(x, dtype = float)\n",
        "print(\"Numpy array:\\n\", arr)"
      ],
      "metadata": {
        "colab": {
          "base_uri": "https://localhost:8080/"
        },
        "id": "aNsfKX-MLEY9",
        "outputId": "6b6d23e0-a780-4901-edd8-91dc8f9cd8f6"
      },
      "execution_count": null,
      "outputs": [
        {
          "output_type": "stream",
          "name": "stdout",
          "text": [
            "Python List:\n",
            " [(1, 2, 3), (4, 5, 6)]\n",
            "Numpy array:\n",
            " [[1. 2. 3.]\n",
            " [4. 5. 6.]]\n"
          ]
        }
      ]
    },
    {
      "cell_type": "code",
      "source": [
        "import numpy as np\n",
        "arr = np.array([1, 2, 3, 4, 5, 6])\n",
        "#itemsize\n",
        "print(\"Size of individual element:\", arr.itemsize, \"bytes\")"
      ],
      "metadata": {
        "colab": {
          "base_uri": "https://localhost:8080/"
        },
        "id": "ReSfWaRwL7Gp",
        "outputId": "e5759fbd-df6f-45f7-96ab-1ec20f3333e2"
      },
      "execution_count": null,
      "outputs": [
        {
          "output_type": "stream",
          "name": "stdout",
          "text": [
            "Size of individual element: 8 bytes\n"
          ]
        }
      ]
    },
    {
      "cell_type": "code",
      "source": [
        "import numpy as np\n",
        "#arange\n",
        "arr = np.arange(10, dtype = float)\n",
        "print(\"Numpy array with 10 elements:\\n\", arr)"
      ],
      "metadata": {
        "colab": {
          "base_uri": "https://localhost:8080/"
        },
        "id": "-fuit7imM26B",
        "outputId": "356e076d-6187-4d38-8869-9967b335adc7"
      },
      "execution_count": null,
      "outputs": [
        {
          "output_type": "stream",
          "name": "stdout",
          "text": [
            "Numpy array with 10 elements:\n",
            " [0. 1. 2. 3. 4. 5. 6. 7. 8. 9.]\n"
          ]
        }
      ]
    },
    {
      "cell_type": "code",
      "source": [
        "import numpy as np\n",
        "arr1 = np.arange(10)\n",
        "#slicing examples\n",
        "print(arr1[3:6])\n",
        "print(arr1[::-1])\n",
        "arr2 = arr1[6:8]\n",
        "print(arr2)"
      ],
      "metadata": {
        "colab": {
          "base_uri": "https://localhost:8080/"
        },
        "id": "dqvOlf9uUDG0",
        "outputId": "a0165568-73e9-472f-ffad-f2cb2ab72bfc"
      },
      "execution_count": null,
      "outputs": [
        {
          "output_type": "stream",
          "name": "stdout",
          "text": [
            "[3 4 5]\n",
            "[9 8 7 6 5 4 3 2 1 0]\n",
            "[6 7]\n"
          ]
        }
      ]
    },
    {
      "cell_type": "code",
      "source": [
        "import numpy as np\n",
        "arr = np.arange(10)\n",
        "#using indexing and slicing\n",
        "print(\"Initial array:\\n\", arr)\n",
        "arr[3] = 1\n",
        "arr[-1] = 0\n",
        "arr[6:8] = np.array([2,0])\n",
        "print(\"Final array:\\n\", arr)"
      ],
      "metadata": {
        "colab": {
          "base_uri": "https://localhost:8080/"
        },
        "id": "Cn7sBm98WIfm",
        "outputId": "8b291304-cbbf-4a7a-913e-de128b5ce8f6"
      },
      "execution_count": null,
      "outputs": [
        {
          "output_type": "stream",
          "name": "stdout",
          "text": [
            "Initial array:\n",
            " [0 1 2 3 4 5 6 7 8 9]\n",
            "Final array:\n",
            " [0 1 2 1 4 5 2 0 8 0]\n"
          ]
        }
      ]
    },
    {
      "cell_type": "code",
      "source": [
        "import numpy as np\n",
        "arr = np.arange(10)\n",
        "print(\"Initial array:\\n\", arr)\n",
        "#operations on numpy array\n",
        "print(\"After operations:\")\n",
        "print(arr+5)\n",
        "print(arr*3)\n",
        "print(arr-2)"
      ],
      "metadata": {
        "colab": {
          "base_uri": "https://localhost:8080/"
        },
        "id": "_pKDjPCnVQV4",
        "outputId": "1ff35cd5-db90-434e-9700-830e97cbb158"
      },
      "execution_count": null,
      "outputs": [
        {
          "output_type": "stream",
          "name": "stdout",
          "text": [
            "Initial array:\n",
            " [0 1 2 3 4 5 6 7 8 9]\n",
            "After operations:\n",
            "[ 5  6  7  8  9 10 11 12 13 14]\n",
            "[ 0  3  6  9 12 15 18 21 24 27]\n",
            "[-2 -1  0  1  2  3  4  5  6  7]\n"
          ]
        }
      ]
    },
    {
      "cell_type": "code",
      "source": [
        "import numpy as np\n",
        "#linspace\n",
        "arr = np.linspace(0, 10, num=20, endpoint=False)\n",
        "print(arr)"
      ],
      "metadata": {
        "colab": {
          "base_uri": "https://localhost:8080/"
        },
        "id": "Av1Zs7wWNlUB",
        "outputId": "bcd241ef-7155-403d-ad31-9e7e25ab60c8"
      },
      "execution_count": null,
      "outputs": [
        {
          "output_type": "stream",
          "name": "stdout",
          "text": [
            "[0.  0.5 1.  1.5 2.  2.5 3.  3.5 4.  4.5 5.  5.5 6.  6.5 7.  7.5 8.  8.5\n",
            " 9.  9.5]\n"
          ]
        }
      ]
    },
    {
      "cell_type": "code",
      "source": [
        "import numpy as np\n",
        "arr1 = np.array([[2, 3, 4 ,5], [4, 5, 5, 3]])\n",
        "print(\"Array 1:\\n\", arr1, \"\\nShape:\", arr1.shape)\n",
        "arr2 = np.array([[6, 5, 5, 2], [8, 2, 5, 8]])\n",
        "print(\"\\nArray 2:\\n\", arr2, \"\\nShape:\", arr2.shape)\n",
        "#vstack\n",
        "arr3 = np.vstack((arr1, arr2))\n",
        "print(\"\\nArray 1 & 2 vertically stacked:\\n\", arr3, \"\\nShape:\", arr3.shape)\n",
        "#hstack\n",
        "arr4 = np.hstack((arr1, arr2))\n",
        "print(\"\\nArray 1 & 2 horizontally stacked:\\n\", arr4, \"\\nShape:\", arr4.shape)"
      ],
      "metadata": {
        "colab": {
          "base_uri": "https://localhost:8080/"
        },
        "id": "loXpLjXQYeEr",
        "outputId": "b82184d6-7176-4dba-9ddb-1b4323291127"
      },
      "execution_count": null,
      "outputs": [
        {
          "output_type": "stream",
          "name": "stdout",
          "text": [
            "Array 1:\n",
            " [[2 3 4 5]\n",
            " [4 5 5 3]] \n",
            "Shape: (2, 4)\n",
            "\n",
            "Array 2:\n",
            " [[6 5 5 2]\n",
            " [8 2 5 8]] \n",
            "Shape: (2, 4)\n",
            "\n",
            "Array 1 & 2 vertically stacked:\n",
            " [[2 3 4 5]\n",
            " [4 5 5 3]\n",
            " [6 5 5 2]\n",
            " [8 2 5 8]] \n",
            "Shape: (4, 4)\n",
            "\n",
            "Array 1 & 2 horizontally stacked:\n",
            " [[2 3 4 5 6 5 5 2]\n",
            " [4 5 5 3 8 2 5 8]] \n",
            "Shape: (2, 8)\n"
          ]
        }
      ]
    },
    {
      "cell_type": "code",
      "source": [
        "import numpy as np\n",
        "arr1 = np.array([1, 2, 3, 4])\n",
        "print(\"Initial array:\\n\", arr1)\n",
        "#power\n",
        "arr2 = np.power(arr1, 2)\n",
        "print(\"Every element squared:\\n\", arr2)\n",
        "arr3 = np.power(arr1, 3)\n",
        "print(\"Every element cubed:\\n\", arr3)"
      ],
      "metadata": {
        "colab": {
          "base_uri": "https://localhost:8080/"
        },
        "id": "tgPyHSBRcVC0",
        "outputId": "ac8b0b43-915f-4284-f267-90a392daf808"
      },
      "execution_count": null,
      "outputs": [
        {
          "output_type": "stream",
          "name": "stdout",
          "text": [
            "Initial array:\n",
            " [1 2 3 4]\n",
            "Every element squared:\n",
            " [ 1  4  9 16]\n",
            "Every element cubed:\n",
            " [ 1  8 27 64]\n"
          ]
        }
      ]
    },
    {
      "cell_type": "code",
      "source": [
        "import numpy as np\n",
        "arr1 = np.array([35, 40, 30, 28, 29, 33])\n",
        "print(\"Initial array:\\n\", arr1)\n",
        "#conditional expressions\n",
        "arr2 = arr1 > 30\n",
        "print(\"\\nLogical comparison (greater than 30):\\n\", arr2)\n",
        "print(\"\\nElements greater than 30:\\n\", arr1[arr2])"
      ],
      "metadata": {
        "colab": {
          "base_uri": "https://localhost:8080/"
        },
        "id": "jA20ai2ed0P7",
        "outputId": "200c7b48-a22c-46a6-ac80-27ff8510f195"
      },
      "execution_count": null,
      "outputs": [
        {
          "output_type": "stream",
          "name": "stdout",
          "text": [
            "Initial array:\n",
            " [35 40 30 28 29 33]\n",
            "\n",
            "Logical comparison (greater than 30):\n",
            " [ True  True False False False  True]\n",
            "\n",
            "Elements greater than 30:\n",
            " [35 40 33]\n"
          ]
        }
      ]
    },
    {
      "cell_type": "code",
      "source": [
        "import numpy as np\n",
        "arr1 = np.array([[True, False], [True, False]])\n",
        "print(\"Array 1:\\n\", arr1)\n",
        "arr2 = np.array([[False, True], [True, False]])\n",
        "print(\"\\nArray 2:\\n\", arr2)\n",
        "#logical operations\n",
        "print(\"\\nArray 1 OR Array 2:\\n\", np.logical_or(arr1, arr2))\n",
        "print(\"\\nArray 1 AND Array 2:\\n\", np.logical_and(arr1, arr2))"
      ],
      "metadata": {
        "colab": {
          "base_uri": "https://localhost:8080/"
        },
        "id": "0QoSbPJlgl9o",
        "outputId": "236ea5d9-82cf-46a4-b562-87aa2362adb2"
      },
      "execution_count": null,
      "outputs": [
        {
          "output_type": "stream",
          "name": "stdout",
          "text": [
            "Array 1:\n",
            " [[ True False]\n",
            " [ True False]]\n",
            "\n",
            "Array 2:\n",
            " [[False  True]\n",
            " [ True False]]\n",
            "\n",
            "Array 1 OR Array 2:\n",
            " [[ True  True]\n",
            " [ True False]]\n",
            "\n",
            "Array 1 AND Array 2:\n",
            " [[False False]\n",
            " [ True False]]\n"
          ]
        }
      ]
    },
    {
      "cell_type": "code",
      "source": [
        "import numpy as np\n",
        "arr1 = np.array([5, 10, 15, 20])\n",
        "print(\"Array 1:\\n\", arr1)\n",
        "arr2 = np.array([2, 4, 5, 7])\n",
        "print(\"\\nArray 2:\\n\", arr2)\n",
        "#mod\n",
        "print(\"\\nAfter modulus:\\n\", np.mod(arr1, arr2))"
      ],
      "metadata": {
        "colab": {
          "base_uri": "https://localhost:8080/"
        },
        "id": "to832Bzki_ZK",
        "outputId": "d26a71b7-b9cf-40d1-8203-c0a5181c4a6f"
      },
      "execution_count": null,
      "outputs": [
        {
          "output_type": "stream",
          "name": "stdout",
          "text": [
            "Array 1:\n",
            " [ 5 10 15 20]\n",
            "\n",
            "Array 2:\n",
            " [2 4 5 7]\n",
            "\n",
            "After modulus:\n",
            " [1 2 0 6]\n"
          ]
        }
      ]
    },
    {
      "cell_type": "code",
      "source": [
        "import numpy as np\n",
        "arr1 = np.array([5, 10, 15, 20])\n",
        "print(\"Array 1:\\n\", arr1)\n",
        "arr2 = np.array([2, 4, 5, 7])\n",
        "print(\"\\nArray 2:\\n\", arr2)\n",
        "#remainder (same as mod)\n",
        "print(\"\\nAfter modulus:\\n\", np.remainder(arr1, arr2))"
      ],
      "metadata": {
        "colab": {
          "base_uri": "https://localhost:8080/"
        },
        "id": "dAeyYTT5ku6p",
        "outputId": "27332ed0-28bd-4b1a-ccc8-0de2cab0c0eb"
      },
      "execution_count": null,
      "outputs": [
        {
          "output_type": "stream",
          "name": "stdout",
          "text": [
            "Array 1:\n",
            " [ 5 10 15 20]\n",
            "\n",
            "Array 2:\n",
            " [2 4 5 7]\n",
            "\n",
            "After modulus:\n",
            " [1 2 0 6]\n"
          ]
        }
      ]
    }
  ]
}